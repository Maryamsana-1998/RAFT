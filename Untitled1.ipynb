{
 "cells": [
  {
   "cell_type": "code",
   "execution_count": 1,
   "id": "39878c63-2758-44e3-a1a5-c7c1d221bffd",
   "metadata": {},
   "outputs": [
    {
     "name": "stdout",
     "output_type": "stream",
     "text": [
      "('../UniControl_Video_Interpolation/data/jockey/images/im00001.png', '../UniControl_Video_Interpolation/data/jockey/images/im00002.png')\n",
      "('../UniControl_Video_Interpolation/data/jockey/images/im00001.png', '../UniControl_Video_Interpolation/data/jockey/images/im00003.png')\n",
      "('../UniControl_Video_Interpolation/data/jockey/images/im00001.png', '../UniControl_Video_Interpolation/data/jockey/images/im00004.png')\n",
      "('../UniControl_Video_Interpolation/data/jockey/images/im00001.png', '../UniControl_Video_Interpolation/data/jockey/images/im00005.png')\n",
      "('../UniControl_Video_Interpolation/data/jockey/images/im00001.png', '../UniControl_Video_Interpolation/data/jockey/images/im00006.png')\n",
      "('../UniControl_Video_Interpolation/data/jockey/images/im00001.png', '../UniControl_Video_Interpolation/data/jockey/images/im00007.png')\n",
      "('../UniControl_Video_Interpolation/data/jockey/images/im00001.png', '../UniControl_Video_Interpolation/data/jockey/images/im00008.png')\n",
      "('../UniControl_Video_Interpolation/data/jockey/images/im00009.png', '../UniControl_Video_Interpolation/data/jockey/images/im00010.png')\n",
      "('../UniControl_Video_Interpolation/data/jockey/images/im00009.png', '../UniControl_Video_Interpolation/data/jockey/images/im00011.png')\n",
      "('../UniControl_Video_Interpolation/data/jockey/images/im00009.png', '../UniControl_Video_Interpolation/data/jockey/images/im00012.png')\n",
      "('../UniControl_Video_Interpolation/data/jockey/images/im00009.png', '../UniControl_Video_Interpolation/data/jockey/images/im00013.png')\n",
      "('../UniControl_Video_Interpolation/data/jockey/images/im00009.png', '../UniControl_Video_Interpolation/data/jockey/images/im00014.png')\n",
      "('../UniControl_Video_Interpolation/data/jockey/images/im00009.png', '../UniControl_Video_Interpolation/data/jockey/images/im00015.png')\n",
      "('../UniControl_Video_Interpolation/data/jockey/images/im00009.png', '../UniControl_Video_Interpolation/data/jockey/images/im00016.png')\n",
      "\n",
      "Total flow pairs: 14\n",
      "['../UniControl_Video_Interpolation/data/jockey/optical_flow/im00002.flo', '../UniControl_Video_Interpolation/data/jockey/optical_flow/im00003.flo', '../UniControl_Video_Interpolation/data/jockey/optical_flow/im00004.flo', '../UniControl_Video_Interpolation/data/jockey/optical_flow/im00005.flo', '../UniControl_Video_Interpolation/data/jockey/optical_flow/im00006.flo', '../UniControl_Video_Interpolation/data/jockey/optical_flow/im00007.flo', '../UniControl_Video_Interpolation/data/jockey/optical_flow/im00008.flo', '../UniControl_Video_Interpolation/data/jockey/optical_flow/im00010.flo', '../UniControl_Video_Interpolation/data/jockey/optical_flow/im00011.flo', '../UniControl_Video_Interpolation/data/jockey/optical_flow/im00012.flo', '../UniControl_Video_Interpolation/data/jockey/optical_flow/im00013.flo', '../UniControl_Video_Interpolation/data/jockey/optical_flow/im00014.flo', '../UniControl_Video_Interpolation/data/jockey/optical_flow/im00015.flo', '../UniControl_Video_Interpolation/data/jockey/optical_flow/im00016.flo']\n"
     ]
    }
   ],
   "source": [
    "import os\n",
    "import argparse\n",
    "import struct\n",
    "import cv2\n",
    "import numpy as np\n",
    "import torch\n",
    "import torch.multiprocessing as mp\n",
    "from typing import List, Tuple\n",
    "from tqdm import tqdm\n",
    "from gen_back_flow import *\n",
    "# RAFT + helpers --------------------------------------------------------------\n",
    "from raft import RAFT                      # <‑ ensure RAFT repo in PYTHONPATH\n",
    "from utils.utils import InputPadder \n",
    "from pathlib import Path\n",
    "import glob\n",
    "\n",
    "\n",
    "image_paths = sorted(glob.glob('../UniControl_Video_Interpolation/data/jockey/images/*.png'))\n",
    "\n",
    "gop_size = 8\n",
    "pairs = []\n",
    "out_paths = []\n",
    "\n",
    "for i in range(0, len(image_paths) - gop_size + 1, gop_size):\n",
    "    gop = image_paths[i:i + gop_size]\n",
    "    ref_frame = gop[0]\n",
    "    for j in range(1, len(gop)):\n",
    "        pairs.append((ref_frame, gop[j]))\n",
    "        out_paths.append('../UniControl_Video_Interpolation/data/jockey/optical_flow/'+ str(Path(gop[j]).stem + '.flo'))\n",
    "\n",
    "# ✅ Print result\n",
    "for pair in pairs:\n",
    "    print(pair)\n",
    "\n",
    "print(f\"\\nTotal flow pairs: {len(pairs)}\")\n",
    "print(out_paths)"
   ]
  },
  {
   "cell_type": "code",
   "execution_count": 2,
   "id": "805e9f74-0381-4460-a2db-e7302c21f775",
   "metadata": {},
   "outputs": [],
   "source": [
    "def load_image(path: str, device: torch.device) -> torch.Tensor:\n",
    "    img = cv2.imread(path)\n",
    "    img = cv2.cvtColor(img, cv2.COLOR_BGR2RGB)\n",
    "    img = cv2.resize(img, (512,512))\n",
    "    tensor = torch.from_numpy(img).permute(2, 0, 1).float().unsqueeze(0) / 255.0\n",
    "    return tensor.to(device)\n",
    "\n",
    "# -----------------------------------------------------------------------------\n",
    "# Core batch routine\n",
    "# -----------------------------------------------------------------------------\n",
    "\n",
    "def process_batch(model: torch.nn.Module,\n",
    "                  pairs: List[Tuple[str, str]],\n",
    "                  out_paths: List[str],\n",
    "                  device: torch.device) -> None:\n",
    "    imgs1, imgs2, unpads = [], [], []\n",
    "    for ref_path, tgt_path in pairs:\n",
    "        ref = load_image(ref_path, device)\n",
    "        tgt = load_image(tgt_path, device)\n",
    "        padder = InputPadder(ref.shape)\n",
    "        ref, tgt = padder.pad(ref, tgt)\n",
    "        imgs1.append(ref)\n",
    "        imgs2.append(tgt)\n",
    "        unpads.append(padder.unpad)\n",
    "\n",
    "    imgs1 = torch.cat(imgs1, dim=0)\n",
    "    imgs2 = torch.cat(imgs2, dim=0)\n",
    "\n",
    "    with torch.no_grad():\n",
    "        _, flows = model(imgs1, imgs2, iters=20, test_mode=True)\n",
    "\n",
    "    # Write each flow\n",
    "    for flow, unpad, out_path in zip(flows, unpads, out_paths):\n",
    "        flow = unpad(flow[None])[0].permute(1, 2, 0).cpu().numpy()\n",
    "        write_flo_file(flow, out_path)"
   ]
  },
  {
   "cell_type": "code",
   "execution_count": 3,
   "id": "07f260e1-bbbd-482d-b873-a040c1ee177c",
   "metadata": {},
   "outputs": [
    {
     "name": "stderr",
     "output_type": "stream",
     "text": [
      "/tmp/ipykernel_3919622/2935815097.py:6: FutureWarning: You are using `torch.load` with `weights_only=False` (the current default value), which uses the default pickle module implicitly. It is possible to construct malicious pickle data which will execute arbitrary code during unpickling (See https://github.com/pytorch/pytorch/blob/main/SECURITY.md#untrusted-models for more details). In a future release, the default value for `weights_only` will be flipped to `True`. This limits the functions that could be executed during unpickling. Arbitrary objects will no longer be allowed to be loaded via this mode unless they are explicitly allowlisted by the user via `torch.serialization.add_safe_globals`. We recommend you start setting `weights_only=True` for any use case where you don't have full control of the loaded file. Please open an issue on GitHub for any issues related to this experimental feature.\n",
      "  state_dict = torch.load('models/raft-sintel.pth', map_location=device)\n",
      "/data/maryamsana_98/RAFT/raft.py:99: FutureWarning: `torch.cuda.amp.autocast(args...)` is deprecated. Please use `torch.amp.autocast('cuda', args...)` instead.\n",
      "  with autocast(enabled=self.args.mixed_precision):\n",
      "/data/maryamsana_98/RAFT/raft.py:110: FutureWarning: `torch.cuda.amp.autocast(args...)` is deprecated. Please use `torch.amp.autocast('cuda', args...)` instead.\n",
      "  with autocast(enabled=self.args.mixed_precision):\n",
      "/home/maryamsana_98/.local/lib/python3.8/site-packages/torch/functional.py:513: UserWarning: torch.meshgrid: in an upcoming release, it will be required to pass the indexing argument. (Triggered internally at ../aten/src/ATen/native/TensorShape.cpp:3609.)\n",
      "  return _VF.meshgrid(tensors, **kwargs)  # type: ignore[attr-defined]\n",
      "/data/maryamsana_98/RAFT/raft.py:127: FutureWarning: `torch.cuda.amp.autocast(args...)` is deprecated. Please use `torch.amp.autocast('cuda', args...)` instead.\n",
      "  with autocast(enabled=self.args.mixed_precision):\n"
     ]
    }
   ],
   "source": [
    "device = torch.device(\"cuda:1\")\n",
    "\n",
    "# Load model **after** setting device\n",
    "raft_args = argparse.Namespace(small=False, mixed_precision=False, alternate_corr=False, model='models/raft-sintel.pth')\n",
    "model = RAFT(raft_args)\n",
    "state_dict = torch.load('models/raft-sintel.pth', map_location=device)\n",
    "# Remove 'module.' prefix if it exists\n",
    "new_state_dict = {}\n",
    "for k, v in state_dict.items():\n",
    "    if k.startswith('module.'):\n",
    "        new_k = k[len('module.'):]\n",
    "    else:\n",
    "        new_k = k\n",
    "    new_state_dict[new_k] = v\n",
    "\n",
    "model.load_state_dict(new_state_dict, strict=False) \n",
    "# model.load_state_dict(torch.load(ckpt, map_location=device))\n",
    "model.to(device)\n",
    "model.eval()\n",
    "process_batch(model, pairs[0:14], out_paths[0:14], device)"
   ]
  },
  {
   "cell_type": "code",
   "execution_count": null,
   "id": "0e767dc1-7436-4cac-8f89-355e0262eeae",
   "metadata": {},
   "outputs": [],
   "source": []
  }
 ],
 "metadata": {
  "kernelspec": {
   "display_name": "Python 3 (ipykernel)",
   "language": "python",
   "name": "python3"
  },
  "language_info": {
   "codemirror_mode": {
    "name": "ipython",
    "version": 3
   },
   "file_extension": ".py",
   "mimetype": "text/x-python",
   "name": "python",
   "nbconvert_exporter": "python",
   "pygments_lexer": "ipython3",
   "version": "3.8.20"
  }
 },
 "nbformat": 4,
 "nbformat_minor": 5
}
