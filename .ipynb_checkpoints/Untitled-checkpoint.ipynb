{
 "cells": [
  {
   "cell_type": "code",
   "execution_count": 1,
   "id": "5bbd4a7e-a08a-43a8-a987-1bdee02c02ad",
   "metadata": {},
   "outputs": [
    {
     "ename": "ModuleNotFoundError",
     "evalue": "No module named 'raft'",
     "output_type": "error",
     "traceback": [
      "\u001b[0;31m---------------------------------------------------------------------------\u001b[0m",
      "\u001b[0;31mModuleNotFoundError\u001b[0m                       Traceback (most recent call last)",
      "Cell \u001b[0;32mIn[1], line 6\u001b[0m\n\u001b[1;32m      4\u001b[0m \u001b[38;5;28;01mimport\u001b[39;00m\u001b[38;5;250m \u001b[39m\u001b[38;5;21;01mnumpy\u001b[39;00m\u001b[38;5;250m \u001b[39m\u001b[38;5;28;01mas\u001b[39;00m\u001b[38;5;250m \u001b[39m\u001b[38;5;21;01mnp\u001b[39;00m\n\u001b[1;32m      5\u001b[0m \u001b[38;5;28;01mfrom\u001b[39;00m\u001b[38;5;250m \u001b[39m\u001b[38;5;21;01mpathlib\u001b[39;00m\u001b[38;5;250m \u001b[39m\u001b[38;5;28;01mimport\u001b[39;00m Path\n\u001b[0;32m----> 6\u001b[0m \u001b[38;5;28;01mfrom\u001b[39;00m\u001b[38;5;250m \u001b[39m\u001b[38;5;21;01mraft\u001b[39;00m\u001b[38;5;250m \u001b[39m\u001b[38;5;28;01mimport\u001b[39;00m RAFT  \u001b[38;5;66;03m# Make sure RAFT is properly installed or imported\u001b[39;00m\n\u001b[1;32m      7\u001b[0m \u001b[38;5;28;01mfrom\u001b[39;00m\u001b[38;5;250m \u001b[39m\u001b[38;5;21;01mutils\u001b[39;00m\u001b[38;5;21;01m.\u001b[39;00m\u001b[38;5;21;01mutils\u001b[39;00m\u001b[38;5;250m \u001b[39m\u001b[38;5;28;01mimport\u001b[39;00m InputPadder\n\u001b[1;32m      8\u001b[0m \u001b[38;5;28;01mfrom\u001b[39;00m\u001b[38;5;250m \u001b[39m\u001b[38;5;21;01mutils\u001b[39;00m\u001b[38;5;250m \u001b[39m\u001b[38;5;28;01mimport\u001b[39;00m flow_viz\n",
      "\u001b[0;31mModuleNotFoundError\u001b[0m: No module named 'raft'"
     ]
    }
   ],
   "source": [
    "import torch\n",
    "import argparse\n",
    "import cv2\n",
    "import numpy as np\n",
    "from pathlib import Path\n",
    "from core.raft import RAFT  # Make sure RAFT is properly installed or imported\n",
    "from utils.utils import InputPadder\n",
    "from utils import flow_viz\n",
    "\n",
    "DEVICE = 'cuda' if torch.cuda.is_available() else 'cpu'\n",
    "\n",
    "def load_image(imfile):\n",
    "    img = cv2.imread(imfile)\n",
    "    img = cv2.cvtColor(img, cv2.COLOR_BGR2RGB)\n",
    "    img = torch.from_numpy(img).permute(2, 0, 1).float()\n",
    "    return img[None].to(DEVICE) / 255.0  # Normalize to [0,1]\n",
    "\n",
    "def compute_flow_between_two_images(image1_path, image2_path, model_ckpt_path):\n",
    "    # Initialize model\n",
    "    class Args:\n",
    "        small = False\n",
    "        mixed_precision = False\n",
    "        alternate_corr = False\n",
    "        model = model_ckpt_path\n",
    "\n",
    "    args = Args()\n",
    "    model = torch.nn.DataParallel(RAFT(args))\n",
    "    model.load_state_dict(torch.load(args.model, map_location=DEVICE))\n",
    "    model = model.module\n",
    "    model.to(DEVICE)\n",
    "    model.eval()\n",
    "\n",
    "    with torch.no_grad():\n",
    "        image1 = load_image(image1_path)\n",
    "        image2 = load_image(image2_path)\n",
    "\n",
    "        padder = InputPadder(image1.shape)\n",
    "        image1, image2 = padder.pad(image1, image2)\n",
    "\n",
    "        flow_low, flow_up = model(image1, image2, iters=20, test_mode=True)\n",
    "\n",
    "    return flow_up[0].permute(1, 2, 0).cpu().numpy()  # shape: (H, W, 2)\n",
    "\n",
    "# Example usage\n",
    "if __name__ == '__main__':\n",
    "    image1_path = \"/data3/local_datasets/vimeo_sequences/00009/0345/r1.png\"\n",
    "    image2_path = \"/data3/local_datasets/vimeo_sequences/00009/0345/im2.png\"\n",
    "    model_ckpt_path = \"models/raft-sintel.pth\"  # Or your trained checkpoint\n",
    "\n",
    "    flow = compute_flow_between_two_images(image1_path, image2_path, model_ckpt_path)\n",
    "    \n",
    "    # Optional: save flow visualization\n",
    "    viz = flow_viz.flow_to_image(flow)\n",
    "    cv2.imwrite(\"optical_flow.png\", cv2.cvtColor(viz, cv2.COLOR_RGB2BGR))\n"
   ]
  },
  {
   "cell_type": "code",
   "execution_count": null,
   "id": "3b7b83e3-f995-40af-b2a1-e6499f190ebb",
   "metadata": {},
   "outputs": [],
   "source": []
  }
 ],
 "metadata": {
  "kernelspec": {
   "display_name": "Python 3 (ipykernel)",
   "language": "python",
   "name": "python3"
  },
  "language_info": {
   "codemirror_mode": {
    "name": "ipython",
    "version": 3
   },
   "file_extension": ".py",
   "mimetype": "text/x-python",
   "name": "python",
   "nbconvert_exporter": "python",
   "pygments_lexer": "ipython3",
   "version": "3.8.20"
  }
 },
 "nbformat": 4,
 "nbformat_minor": 5
}
