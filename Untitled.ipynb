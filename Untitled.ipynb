{
 "cells": [
  {
   "cell_type": "code",
   "execution_count": 12,
   "id": "5bbd4a7e-a08a-43a8-a987-1bdee02c02ad",
   "metadata": {},
   "outputs": [
    {
     "name": "stderr",
     "output_type": "stream",
     "text": [
      "/tmp/ipykernel_3888843/2518378733.py:27: FutureWarning: You are using `torch.load` with `weights_only=False` (the current default value), which uses the default pickle module implicitly. It is possible to construct malicious pickle data which will execute arbitrary code during unpickling (See https://github.com/pytorch/pytorch/blob/main/SECURITY.md#untrusted-models for more details). In a future release, the default value for `weights_only` will be flipped to `True`. This limits the functions that could be executed during unpickling. Arbitrary objects will no longer be allowed to be loaded via this mode unless they are explicitly allowlisted by the user via `torch.serialization.add_safe_globals`. We recommend you start setting `weights_only=True` for any use case where you don't have full control of the loaded file. Please open an issue on GitHub for any issues related to this experimental feature.\n",
      "  model.load_state_dict(torch.load(args.model, map_location=DEVICE))\n",
      "/data/maryamsana_98/RAFT/raft.py:99: FutureWarning: `torch.cuda.amp.autocast(args...)` is deprecated. Please use `torch.amp.autocast('cuda', args...)` instead.\n",
      "  with autocast(enabled=self.args.mixed_precision):\n",
      "/data/maryamsana_98/RAFT/raft.py:110: FutureWarning: `torch.cuda.amp.autocast(args...)` is deprecated. Please use `torch.amp.autocast('cuda', args...)` instead.\n",
      "  with autocast(enabled=self.args.mixed_precision):\n",
      "/home/maryamsana_98/.local/lib/python3.8/site-packages/torch/functional.py:513: UserWarning: torch.meshgrid: in an upcoming release, it will be required to pass the indexing argument. (Triggered internally at ../aten/src/ATen/native/TensorShape.cpp:3609.)\n",
      "  return _VF.meshgrid(tensors, **kwargs)  # type: ignore[attr-defined]\n",
      "/data/maryamsana_98/RAFT/raft.py:127: FutureWarning: `torch.cuda.amp.autocast(args...)` is deprecated. Please use `torch.amp.autocast('cuda', args...)` instead.\n",
      "  with autocast(enabled=self.args.mixed_precision):\n"
     ]
    }
   ],
   "source": [
    "import torch\n",
    "import argparse\n",
    "import cv2\n",
    "import numpy as np\n",
    "from pathlib import Path\n",
    "from raft import RAFT  # Make sure RAFT is properly installed or imported\n",
    "from utils.utils import InputPadder\n",
    "from utils import flow_viz\n",
    "import argparse\n",
    "DEVICE = 'cuda' if torch.cuda.is_available() else 'cpu'\n",
    "\n",
    "def load_image(imfile):\n",
    "    img = cv2.imread(imfile)\n",
    "    img = cv2.cvtColor(img, cv2.COLOR_BGR2RGB)\n",
    "    img = torch.from_numpy(img).permute(2, 0, 1).float()\n",
    "    return img[None].to(DEVICE) / 255.0  # Normalize to [0,1]\n",
    "\n",
    "def compute_flow_between_two_images(image1_path, image2_path, model_ckpt_path):\n",
    "\n",
    "    args = argparse.Namespace(\n",
    "            small=False,\n",
    "            mixed_precision=False,\n",
    "            alternate_corr=False,\n",
    "            model=model_ckpt_path\n",
    "        )\n",
    "    model = torch.nn.DataParallel(RAFT(args))\n",
    "    model.load_state_dict(torch.load(args.model, map_location=DEVICE))\n",
    "    model = model.module\n",
    "    model.to(DEVICE)\n",
    "    model.eval()\n",
    "\n",
    "    with torch.no_grad():\n",
    "        image1 = load_image(image1_path)\n",
    "        image2 = load_image(image2_path)\n",
    "\n",
    "        padder = InputPadder(image1.shape)\n",
    "        image1, image2 = padder.pad(image1, image2)\n",
    "\n",
    "        flow_low, flow_up = model(image1, image2, iters=20, test_mode=True)\n",
    "\n",
    "    return flow_up[0].permute(1, 2, 0).cpu().numpy()  # shape: (H, W, 2)\n",
    "\n",
    "# Example usage\n",
    "if __name__ == '__main__':\n",
    "    image1_path = \"/data3/local_datasets/vimeo_sequences/00009/0345/r1.png\"\n",
    "    image2_path = \"/data3/local_datasets/vimeo_sequences/00009/0345/im2.png\"\n",
    "    model_ckpt_path = \"models/raft-sintel.pth\"  # Or your trained checkpoint\n",
    "\n",
    "    flow = compute_flow_between_two_images(image1_path, image2_path, model_ckpt_path)\n",
    "    \n",
    "    # Optional: save flow visualization\n",
    "    viz = flow_viz.flow_to_image(flow)\n",
    "    cv2.imwrite(\"optical_flow.png\", cv2.cvtColor(viz, cv2.COLOR_RGB2BGR))\n"
   ]
  },
  {
   "cell_type": "code",
   "execution_count": 13,
   "id": "a5745432-f2bb-4345-b438-d415b6a63a9f",
   "metadata": {},
   "outputs": [],
   "source": [
    "import numpy as np\n",
    "import struct\n",
    "\n",
    "def write_flo_file(flow, filename):\n",
    "    \"\"\"\n",
    "    Write optical flow to file in Middlebury .flo format.\n",
    "    flow: numpy array of shape (H, W, 2), dtype float32\n",
    "    \"\"\"\n",
    "    assert flow.ndim == 3 and flow.shape[2] == 2, \"Flow must have shape (H, W, 2)\"\n",
    "    magic = 202021.25  # magic number for .flo\n",
    "    height, width = flow.shape[:2]\n",
    "\n",
    "    with open(filename, 'wb') as f:\n",
    "        f.write(struct.pack('f', magic))\n",
    "        f.write(struct.pack('i', width))\n",
    "        f.write(struct.pack('i', height))\n",
    "        f.write(flow.astype(np.float32).tobytes())\n",
    "                     "
   ]
  },
  {
   "cell_type": "code",
   "execution_count": 16,
   "id": "c43d0cac-19da-4353-b96e-815efdbdcbe1",
   "metadata": {},
   "outputs": [
    {
     "ename": "AssertionError",
     "evalue": "Flow must have shape (H, W, 2)",
     "output_type": "error",
     "traceback": [
      "\u001b[0;31m---------------------------------------------------------------------------\u001b[0m",
      "\u001b[0;31mAssertionError\u001b[0m                            Traceback (most recent call last)",
      "Cell \u001b[0;32mIn[16], line 4\u001b[0m\n\u001b[1;32m      1\u001b[0m flow_np \u001b[38;5;241m=\u001b[39m np\u001b[38;5;241m.\u001b[39mtranspose(flow, (\u001b[38;5;241m1\u001b[39m, \u001b[38;5;241m2\u001b[39m, \u001b[38;5;241m0\u001b[39m))\n\u001b[1;32m      3\u001b[0m \u001b[38;5;66;03m# Save to .flo file\u001b[39;00m\n\u001b[0;32m----> 4\u001b[0m \u001b[43mwrite_flo_file\u001b[49m\u001b[43m(\u001b[49m\u001b[43mflow_np\u001b[49m\u001b[43m,\u001b[49m\u001b[43m \u001b[49m\u001b[38;5;124;43m'\u001b[39;49m\u001b[38;5;124;43moutput_flow.flo\u001b[39;49m\u001b[38;5;124;43m'\u001b[39;49m\u001b[43m)\u001b[49m\n",
      "Cell \u001b[0;32mIn[13], line 9\u001b[0m, in \u001b[0;36mwrite_flo_file\u001b[0;34m(flow, filename)\u001b[0m\n\u001b[1;32m      4\u001b[0m \u001b[38;5;28;01mdef\u001b[39;00m\u001b[38;5;250m \u001b[39m\u001b[38;5;21mwrite_flo_file\u001b[39m(flow, filename):\n\u001b[1;32m      5\u001b[0m \u001b[38;5;250m    \u001b[39m\u001b[38;5;124;03m\"\"\"\u001b[39;00m\n\u001b[1;32m      6\u001b[0m \u001b[38;5;124;03m    Write optical flow to file in Middlebury .flo format.\u001b[39;00m\n\u001b[1;32m      7\u001b[0m \u001b[38;5;124;03m    flow: numpy array of shape (H, W, 2), dtype float32\u001b[39;00m\n\u001b[1;32m      8\u001b[0m \u001b[38;5;124;03m    \"\"\"\u001b[39;00m\n\u001b[0;32m----> 9\u001b[0m     \u001b[38;5;28;01massert\u001b[39;00m flow\u001b[38;5;241m.\u001b[39mndim \u001b[38;5;241m==\u001b[39m \u001b[38;5;241m3\u001b[39m \u001b[38;5;129;01mand\u001b[39;00m flow\u001b[38;5;241m.\u001b[39mshape[\u001b[38;5;241m2\u001b[39m] \u001b[38;5;241m==\u001b[39m \u001b[38;5;241m2\u001b[39m, \u001b[38;5;124m\"\u001b[39m\u001b[38;5;124mFlow must have shape (H, W, 2)\u001b[39m\u001b[38;5;124m\"\u001b[39m\n\u001b[1;32m     10\u001b[0m     magic \u001b[38;5;241m=\u001b[39m \u001b[38;5;241m202021.25\u001b[39m  \u001b[38;5;66;03m# magic number for .flo\u001b[39;00m\n\u001b[1;32m     11\u001b[0m     height, width \u001b[38;5;241m=\u001b[39m flow\u001b[38;5;241m.\u001b[39mshape[:\u001b[38;5;241m2\u001b[39m]\n",
      "\u001b[0;31mAssertionError\u001b[0m: Flow must have shape (H, W, 2)"
     ]
    }
   ],
   "source": [
    "flow_np = np.transpose(flow, (1, 2, 0))\n",
    "\n",
    "# Save to .flo file\n",
    "write_flo_file(flow_np, 'output_flow.flo')\n"
   ]
  },
  {
   "cell_type": "code",
   "execution_count": null,
   "id": "908b4270-1afb-4ccd-b14d-c299dbc5aef0",
   "metadata": {},
   "outputs": [],
   "source": []
  }
 ],
 "metadata": {
  "kernelspec": {
   "display_name": "Python 3 (ipykernel)",
   "language": "python",
   "name": "python3"
  },
  "language_info": {
   "codemirror_mode": {
    "name": "ipython",
    "version": 3
   },
   "file_extension": ".py",
   "mimetype": "text/x-python",
   "name": "python",
   "nbconvert_exporter": "python",
   "pygments_lexer": "ipython3",
   "version": "3.8.20"
  }
 },
 "nbformat": 4,
 "nbformat_minor": 5
}
